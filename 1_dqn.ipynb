{
 "cells": [
  {
   "cell_type": "markdown",
   "id": "pressing-edgar",
   "metadata": {},
   "source": [
    "# DQN\n",
    "\n",
    "Introduction."
   ]
  },
  {
   "cell_type": "code",
   "execution_count": 1,
   "id": "described-class",
   "metadata": {},
   "outputs": [],
   "source": [
    "import collections\n",
    "import copy\n",
    "import random\n",
    "\n",
    "import gym\n",
    "import matplotlib.pyplot as plt\n",
    "import numpy as np\n",
    "import tqdm\n",
    "import torch\n",
    "import torch.nn as nn\n",
    "import torch.nn.functional as F\n",
    "import torch.optim as optim"
   ]
  },
  {
   "cell_type": "code",
   "execution_count": 2,
   "id": "caring-laptop",
   "metadata": {},
   "outputs": [],
   "source": [
    "torch.manual_seed(1234)\n",
    "torch.backends.cudnn.deterministic = True\n",
    "np.random.seed(1234)\n",
    "random.seed(1234)"
   ]
  },
  {
   "cell_type": "markdown",
   "id": "national-duration",
   "metadata": {},
   "source": [
    "## OpenAI Gym\n",
    "\n",
    "Also, wrappers."
   ]
  },
  {
   "cell_type": "code",
   "execution_count": 3,
   "id": "green-stability",
   "metadata": {},
   "outputs": [],
   "source": [
    "game = 'PongNoFrameskip-v4'\n",
    "\n",
    "env = gym.make(game)"
   ]
  },
  {
   "cell_type": "code",
   "execution_count": 4,
   "id": "determined-nicaragua",
   "metadata": {},
   "outputs": [],
   "source": [
    "state = env.reset()"
   ]
  },
  {
   "cell_type": "code",
   "execution_count": 5,
   "id": "dried-local",
   "metadata": {},
   "outputs": [
    {
     "name": "stdout",
     "output_type": "stream",
     "text": [
      "(210, 160, 3)\n"
     ]
    }
   ],
   "source": [
    "print(state.shape)"
   ]
  },
  {
   "cell_type": "code",
   "execution_count": 6,
   "id": "linear-billy",
   "metadata": {},
   "outputs": [
    {
     "data": {
      "text/plain": [
       "<matplotlib.image.AxesImage at 0x7f57c4d89940>"
      ]
     },
     "execution_count": 6,
     "metadata": {},
     "output_type": "execute_result"
    },
    {
     "data": {
      "image/png": "[encoded data removed]",
      "text/plain": [
       "<Figure size 432x288 with 1 Axes>"
      ]
     },
     "metadata": {
      "needs_background": "light"
     },
     "output_type": "display_data"
    }
   ],
   "source": [
    "plt.imshow(state)"
   ]
  },
  {
   "cell_type": "markdown",
   "id": "informed-association",
   "metadata": {},
   "source": [
    "AtariPreprocessing does:\n",
    "- no-op reset\n",
    "- skip every four frames\n",
    "- max the last two frames (cannot change)\n",
    "- resize to 84x84\n",
    "- convert to greyscale"
   ]
  },
  {
   "cell_type": "code",
   "execution_count": 7,
   "id": "varying-philosophy",
   "metadata": {},
   "outputs": [],
   "source": [
    "env = gym.wrappers.AtariPreprocessing(env,\n",
    "                                      noop_max=30,\n",
    "                                      frame_skip=4,\n",
    "                                      screen_size=84,\n",
    "                                      terminal_on_life_loss=True,\n",
    "                                      grayscale_obs=True)"
   ]
  },
  {
   "cell_type": "code",
   "execution_count": 8,
   "id": "brilliant-contributor",
   "metadata": {},
   "outputs": [],
   "source": [
    "state = env.reset()"
   ]
  },
  {
   "cell_type": "code",
   "execution_count": 9,
   "id": "controlling-economy",
   "metadata": {},
   "outputs": [
    {
     "name": "stdout",
     "output_type": "stream",
     "text": [
      "(84, 84)\n"
     ]
    }
   ],
   "source": [
    "print(state.shape)"
   ]
  },
  {
   "cell_type": "code",
   "execution_count": 10,
   "id": "biological-matter",
   "metadata": {},
   "outputs": [
    {
     "data": {
      "text/plain": [
       "<matplotlib.image.AxesImage at 0x7f57c4c80790>"
      ]
     },
     "execution_count": 10,
     "metadata": {},
     "output_type": "execute_result"
    },
    {
     "data": {
      "image/png": "[encoded data removed]",
      "text/plain": [
       "<Figure size 432x288 with 1 Axes>"
      ]
     },
     "metadata": {
      "needs_background": "light"
     },
     "output_type": "display_data"
    }
   ],
   "source": [
    "plt.imshow(state)"
   ]
  },
  {
   "cell_type": "code",
   "execution_count": 11,
   "id": "official-workstation",
   "metadata": {},
   "outputs": [],
   "source": [
    "n_stack = 4\n",
    "\n",
    "env = gym.wrappers.FrameStack(env,\n",
    "                              num_stack=n_stack)"
   ]
  },
  {
   "cell_type": "code",
   "execution_count": 12,
   "id": "enormous-citizen",
   "metadata": {},
   "outputs": [],
   "source": [
    "state = env.reset()"
   ]
  },
  {
   "cell_type": "code",
   "execution_count": 13,
   "id": "motivated-consequence",
   "metadata": {},
   "outputs": [
    {
     "name": "stdout",
     "output_type": "stream",
     "text": [
      "(4, 84, 84)\n"
     ]
    }
   ],
   "source": [
    "print(state.shape)"
   ]
  },
  {
   "cell_type": "code",
   "execution_count": 14,
   "id": "agreed-coating",
   "metadata": {},
   "outputs": [
    {
     "data": {
      "image/png": "[encoded data removed]",
      "text/plain": [
       "<Figure size 1080x1080 with 4 Axes>"
      ]
     },
     "metadata": {
      "needs_background": "light"
     },
     "output_type": "display_data"
    }
   ],
   "source": [
    "fig, ax = plt.subplots(1, 4, figsize=(15,15))\n",
    "for i, s in enumerate(state):\n",
    "    ax[i].imshow(s)"
   ]
  },
  {
   "cell_type": "code",
   "execution_count": 15,
   "id": "focused-serve",
   "metadata": {},
   "outputs": [],
   "source": [
    "env = gym.wrappers.TransformReward(env,\n",
    "                                   lambda r: np.sign(r))"
   ]
  },
  {
   "cell_type": "code",
   "execution_count": 16,
   "id": "million-measure",
   "metadata": {},
   "outputs": [
    {
     "name": "stdout",
     "output_type": "stream",
     "text": [
      "['NOOP', 'FIRE', 'RIGHT', 'LEFT', 'RIGHTFIRE', 'LEFTFIRE']\n"
     ]
    }
   ],
   "source": [
    "print(env.get_action_meanings())"
   ]
  },
  {
   "cell_type": "code",
   "execution_count": 17,
   "id": "capable-spine",
   "metadata": {},
   "outputs": [],
   "source": [
    "action = 0\n",
    "\n",
    "for i in range(25):\n",
    "    next_state, reward, done, info = env.step(action)"
   ]
  },
  {
   "cell_type": "code",
   "execution_count": 18,
   "id": "electric-failing",
   "metadata": {},
   "outputs": [
    {
     "data": {
      "image/png": "[encoded data removed]",
      "text/plain": [
       "<Figure size 1080x1080 with 4 Axes>"
      ]
     },
     "metadata": {
      "needs_background": "light"
     },
     "output_type": "display_data"
    }
   ],
   "source": [
    "fig, ax = plt.subplots(1, 4, figsize=(15,15))\n",
    "for i, s in enumerate(next_state):\n",
    "    ax[i].imshow(s)"
   ]
  },
  {
   "cell_type": "code",
   "execution_count": 19,
   "id": "green-aaron",
   "metadata": {},
   "outputs": [
    {
     "data": {
      "text/plain": [
       "[1234, 142896654]"
      ]
     },
     "execution_count": 19,
     "metadata": {},
     "output_type": "execute_result"
    }
   ],
   "source": [
    "env.seed(1234)"
   ]
  },
  {
   "cell_type": "markdown",
   "id": "institutional-publication",
   "metadata": {},
   "source": [
    "## Model\n",
    "\n",
    "DQN model from DQN paper."
   ]
  },
  {
   "cell_type": "code",
   "execution_count": 20,
   "id": "conscious-sunrise",
   "metadata": {},
   "outputs": [],
   "source": [
    "class DQN(nn.Module):\n",
    "    def __init__(self, n_stack: int, n_actions: int):\n",
    "        super().__init__()\n",
    "        self.n_actions = n_actions\n",
    "        self.conv1 = nn.Conv2d(n_stack, 32, kernel_size=8, stride=4)\n",
    "        self.conv2 = nn.Conv2d(32, 64, kernel_size=4, stride=2)\n",
    "        self.conv3 = nn.Conv2d(64, 64, kernel_size=3, stride=1)\n",
    "        self.fc1 = nn.Linear(7 * 7 * 64, 512)\n",
    "        self.fc2 = nn.Linear(512, n_actions)\n",
    "        \n",
    "    def forward(self, x):\n",
    "        batch_size, n_stack, height, width = x.shape\n",
    "        assert (height, width) == (84, 84)\n",
    "        x = F.relu(self.conv1(x))\n",
    "        x = F.relu(self.conv2(x))\n",
    "        x = F.relu(self.conv3(x))\n",
    "        x = x.view(batch_size, -1)\n",
    "        x = F.relu(self.fc1(x))\n",
    "        x = self.fc2(x)\n",
    "        return x\n",
    "    \n",
    "    def get_action(self, state, epsilon, device):\n",
    "        if random.random() < epsilon:\n",
    "            action = random.randrange(self.n_actions)\n",
    "        else:\n",
    "            with torch.no_grad():\n",
    "                state = torch.FloatTensor(state).unsqueeze(dim=0).to(device)\n",
    "                q_value = self.forward(state)\n",
    "                action = q_value.argmax(dim=-1).item()\n",
    "        return action"
   ]
  },
  {
   "cell_type": "markdown",
   "id": "formal-charity",
   "metadata": {},
   "source": [
    "## Replay Memory\n",
    "\n",
    "Also called replay buffer, experience replay."
   ]
  },
  {
   "cell_type": "code",
   "execution_count": 21,
   "id": "bound-clock",
   "metadata": {},
   "outputs": [],
   "source": [
    "class ReplayMemory:\n",
    "    def __init__(self, capacity):\n",
    "        self.capacity = capacity\n",
    "        self.memory = collections.deque(maxlen=capacity)\n",
    "        \n",
    "    def push(self, state, action, reward, next_state, done):\n",
    "        state = torch.FloatTensor(state)\n",
    "        action = torch.LongTensor([action])\n",
    "        reward = torch.FloatTensor([reward])\n",
    "        next_state = torch.FloatTensor(next_state)\n",
    "        done = torch.FloatTensor([done])\n",
    "        transition = (state, action, reward, next_state, done)\n",
    "        self.memory.append(transition)\n",
    "        \n",
    "    def sample(self, batch_size):\n",
    "        transitions = random.sample(self.memory, batch_size)\n",
    "        states, actions, rewards, next_states, dones = zip(*transitions)\n",
    "        return states, actions, rewards, next_states, dones\n",
    "        \n",
    "    def __len__(self):\n",
    "        return len(self.memory)"
   ]
  },
  {
   "cell_type": "markdown",
   "id": "comparable-berry",
   "metadata": {},
   "source": [
    "## Training"
   ]
  },
  {
   "cell_type": "code",
   "execution_count": 22,
   "id": "textile-distribution",
   "metadata": {},
   "outputs": [],
   "source": [
    "def train(env, model, replay_memory, optimizer, n_steps, update_freq,\n",
    "          target_freq, print_freq, epsilons, batch_size, gamma, grad_clip,\n",
    "          device):\n",
    "    \n",
    "    model = model.to(device)\n",
    "    target_model = copy.deepcopy(model)\n",
    "    model.train()\n",
    "    model.eval()\n",
    "    \n",
    "    episode_steps = []\n",
    "    episode_rewards = []\n",
    "    episode_reward = 0\n",
    "\n",
    "    state = env.reset()\n",
    "\n",
    "    for step in tqdm.tqdm(range(n_steps)):\n",
    "\n",
    "        epsilon = epsilons[step] if step < len(epsilons) else epsilons[-1]\n",
    "\n",
    "        action = model.get_action(state, epsilon, device)\n",
    "\n",
    "        next_state, reward, done, info = env.step(action)\n",
    "\n",
    "        episode_reward += reward\n",
    "\n",
    "        replay_memory.push(state, action, reward, next_state, done)\n",
    "\n",
    "        state = next_state\n",
    "\n",
    "        if step % update_freq == 0 and step > replay_memory.capacity:\n",
    "            loss = optimize_model(model, target_model, replay_memory, optimizer,\n",
    "                                  batch_size, gamma, grad_clip, device)\n",
    "\n",
    "        if step % (update_freq * target_freq) == 0 and step > replay_memory.capacity:\n",
    "            target_model.load_state_dict(model.state_dict())\n",
    "\n",
    "        if done:\n",
    "            episode_rewards.append(episode_reward)\n",
    "            episode_steps.append(step+1)\n",
    "            episode_reward = 0\n",
    "            state = env.reset()\n",
    "            \n",
    "        if step % print_freq == 0 and step > replay_memory.capacity:\n",
    "            avg_reward = np.mean(episode_rewards[-10:])\n",
    "            print(f'episodes: {len(episode_rewards)}, steps: {step}')\n",
    "            print(f'epsilon: {epsilon}, reward: {avg_reward}')\n",
    "            \n",
    "    return episode_steps, episode_rewards"
   ]
  },
  {
   "cell_type": "code",
   "execution_count": 23,
   "id": "optional-cocktail",
   "metadata": {},
   "outputs": [],
   "source": [
    "def optimize_model(model, target_model, replay_memory, optimizer, batch_size, gamma, grad_clip, device):\n",
    "    \n",
    "    states, actions, rewards, next_states, dones = replay_memory.sample(batch_size)\n",
    "    \n",
    "    states = torch.stack(states).to(device)\n",
    "    actions = torch.stack(actions).to(device)\n",
    "    rewards = torch.stack(rewards).to(device)\n",
    "    next_states = torch.stack(next_states).to(device)\n",
    "    dones = torch.stack(dones).to(device)\n",
    "        \n",
    "    q_preds = model(states)\n",
    "    q_vals = q_preds.gather(dim=-1, index=actions)\n",
    "    \n",
    "    target_preds = target_model(next_states)\n",
    "    target_vals = target_preds.max(dim=-1, keepdim=True).values\n",
    "    \n",
    "    expected_vals = rewards + (target_vals * gamma * (1 - dones))\n",
    "    \n",
    "    loss = F.smooth_l1_loss(q_vals, expected_vals.detach())\n",
    "            \n",
    "    optimizer.zero_grad()\n",
    "    loss.backward()\n",
    "    nn.utils.clip_grad_norm_(model.parameters(), grad_clip)\n",
    "    optimizer.step()\n",
    "    \n",
    "    return loss.item()"
   ]
  },
  {
   "cell_type": "code",
   "execution_count": 24,
   "id": "pediatric-envelope",
   "metadata": {},
   "outputs": [],
   "source": [
    "capacity = 10_000\n",
    "\n",
    "replay_memory = ReplayMemory(capacity)"
   ]
  },
  {
   "cell_type": "code",
   "execution_count": 25,
   "id": "lyric-synthetic",
   "metadata": {},
   "outputs": [],
   "source": [
    "start = 1.0\n",
    "end = 0.01\n",
    "decay = 30_000\n",
    "\n",
    "epsilons = np.concatenate((np.ones(capacity), np.linspace(start, end, decay)), axis=0)"
   ]
  },
  {
   "cell_type": "code",
   "execution_count": 26,
   "id": "recreational-intent",
   "metadata": {},
   "outputs": [
    {
     "data": {
      "text/plain": [
       "[<matplotlib.lines.Line2D at 0x7f57c462a460>]"
      ]
     },
     "execution_count": 26,
     "metadata": {},
     "output_type": "execute_result"
    },
    {
     "data": {
      "image/png": "[encoded data removed]",
      "text/plain": [
       "<Figure size 432x288 with 1 Axes>"
      ]
     },
     "metadata": {
      "needs_background": "light"
     },
     "output_type": "display_data"
    }
   ],
   "source": [
    "plt.plot(epsilons)"
   ]
  },
  {
   "cell_type": "code",
   "execution_count": 27,
   "id": "graphic-tattoo",
   "metadata": {},
   "outputs": [],
   "source": [
    "n_actions = env.action_space.n\n",
    "\n",
    "model = DQN(n_stack, n_actions)"
   ]
  },
  {
   "cell_type": "code",
   "execution_count": 28,
   "id": "controlling-customer",
   "metadata": {},
   "outputs": [],
   "source": [
    "lr = 1e-4\n",
    "\n",
    "optimizer = optim.Adam(model.parameters(), lr=lr)"
   ]
  },
  {
   "cell_type": "code",
   "execution_count": 29,
   "id": "hispanic-history",
   "metadata": {},
   "outputs": [],
   "source": [
    "device = torch.device('cuda' if torch.cuda.is_available() else 'cpu')"
   ]
  },
  {
   "cell_type": "code",
   "execution_count": null,
   "id": "american-penalty",
   "metadata": {},
   "outputs": [
    {
     "name": "stderr",
     "output_type": "stream",
     "text": [
      "  2%|▏         | 15017/1000000 [01:34<2:53:08, 94.81it/s] "
     ]
    },
    {
     "name": "stdout",
     "output_type": "stream",
     "text": [
      "episodes: 16, steps: 15000\n",
      "epsilon: 0.8349944998166605, reward: -20.1\n"
     ]
    },
    {
     "name": "stderr",
     "output_type": "stream",
     "text": [
      "  2%|▏         | 20017/1000000 [02:25<2:54:11, 93.76it/s] "
     ]
    },
    {
     "name": "stdout",
     "output_type": "stream",
     "text": [
      "episodes: 21, steps: 20000\n",
      "epsilon: 0.669988999633321, reward: -20.0\n"
     ]
    },
    {
     "name": "stderr",
     "output_type": "stream",
     "text": [
      "  3%|▎         | 25017/1000000 [03:18<2:53:31, 93.65it/s]"
     ]
    },
    {
     "name": "stdout",
     "output_type": "stream",
     "text": [
      "episodes: 26, steps: 25000\n",
      "epsilon: 0.5049834994499816, reward: -19.7\n"
     ]
    },
    {
     "name": "stderr",
     "output_type": "stream",
     "text": [
      "  3%|▎         | 30014/1000000 [04:13<3:01:51, 88.90it/s]"
     ]
    },
    {
     "name": "stdout",
     "output_type": "stream",
     "text": [
      "episodes: 31, steps: 30000\n",
      "epsilon: 0.3399779992666422, reward: -19.6\n"
     ]
    },
    {
     "name": "stderr",
     "output_type": "stream",
     "text": [
      "  4%|▎         | 35014/1000000 [05:11<3:01:33, 88.59it/s]"
     ]
    },
    {
     "name": "stdout",
     "output_type": "stream",
     "text": [
      "episodes: 35, steps: 35000\n",
      "epsilon: 0.1749724990833027, reward: -19.1\n"
     ]
    },
    {
     "name": "stderr",
     "output_type": "stream",
     "text": [
      "  4%|▍         | 40011/1000000 [06:07<3:03:56, 86.99it/s]"
     ]
    },
    {
     "name": "stdout",
     "output_type": "stream",
     "text": [
      "episodes: 38, steps: 40000\n",
      "epsilon: 0.01, reward: -18.7\n"
     ]
    },
    {
     "name": "stderr",
     "output_type": "stream",
     "text": [
      "  5%|▍         | 45016/1000000 [07:06<3:12:57, 82.49it/s]"
     ]
    },
    {
     "name": "stdout",
     "output_type": "stream",
     "text": [
      "episodes: 41, steps: 45000\n",
      "epsilon: 0.01, reward: -18.0\n"
     ]
    },
    {
     "name": "stderr",
     "output_type": "stream",
     "text": [
      "  5%|▌         | 50015/1000000 [08:06<3:10:17, 83.20it/s]"
     ]
    },
    {
     "name": "stdout",
     "output_type": "stream",
     "text": [
      "episodes: 44, steps: 50000\n",
      "epsilon: 0.01, reward: -17.8\n"
     ]
    },
    {
     "name": "stderr",
     "output_type": "stream",
     "text": [
      "  6%|▌         | 55010/1000000 [09:06<3:08:41, 83.47it/s]"
     ]
    },
    {
     "name": "stdout",
     "output_type": "stream",
     "text": [
      "episodes: 46, steps: 55000\n",
      "epsilon: 0.01, reward: -17.0\n"
     ]
    },
    {
     "name": "stderr",
     "output_type": "stream",
     "text": [
      "  6%|▌         | 60012/1000000 [10:06<3:05:38, 84.39it/s]"
     ]
    },
    {
     "name": "stdout",
     "output_type": "stream",
     "text": [
      "episodes: 49, steps: 60000\n",
      "epsilon: 0.01, reward: -16.6\n"
     ]
    },
    {
     "name": "stderr",
     "output_type": "stream",
     "text": [
      "  7%|▋         | 65016/1000000 [11:05<3:06:08, 83.72it/s]"
     ]
    },
    {
     "name": "stdout",
     "output_type": "stream",
     "text": [
      "episodes: 52, steps: 65000\n",
      "epsilon: 0.01, reward: -16.6\n"
     ]
    },
    {
     "name": "stderr",
     "output_type": "stream",
     "text": [
      "  7%|▋         | 70010/1000000 [12:05<3:04:10, 84.16it/s]"
     ]
    },
    {
     "name": "stdout",
     "output_type": "stream",
     "text": [
      "episodes: 54, steps: 70000\n",
      "epsilon: 0.01, reward: -15.7\n"
     ]
    },
    {
     "name": "stderr",
     "output_type": "stream",
     "text": [
      "  8%|▊         | 75014/1000000 [13:05<3:04:22, 83.61it/s]"
     ]
    },
    {
     "name": "stdout",
     "output_type": "stream",
     "text": [
      "episodes: 57, steps: 75000\n",
      "epsilon: 0.01, reward: -15.0\n"
     ]
    },
    {
     "name": "stderr",
     "output_type": "stream",
     "text": [
      "  8%|▊         | 80018/1000000 [14:04<3:01:24, 84.52it/s]"
     ]
    },
    {
     "name": "stdout",
     "output_type": "stream",
     "text": [
      "episodes: 59, steps: 80000\n",
      "epsilon: 0.01, reward: -15.1\n"
     ]
    },
    {
     "name": "stderr",
     "output_type": "stream",
     "text": [
      "  9%|▊         | 85013/1000000 [15:03<3:14:48, 78.28it/s]"
     ]
    },
    {
     "name": "stdout",
     "output_type": "stream",
     "text": [
      "episodes: 62, steps: 85000\n",
      "epsilon: 0.01, reward: -13.2\n"
     ]
    },
    {
     "name": "stderr",
     "output_type": "stream",
     "text": [
      "  9%|▉         | 90017/1000000 [16:01<2:57:13, 85.58it/s]"
     ]
    },
    {
     "name": "stdout",
     "output_type": "stream",
     "text": [
      "episodes: 63, steps: 90000\n",
      "epsilon: 0.01, reward: -12.2\n"
     ]
    },
    {
     "name": "stderr",
     "output_type": "stream",
     "text": [
      " 10%|▉         | 95014/1000000 [16:59<2:54:09, 86.60it/s]"
     ]
    },
    {
     "name": "stdout",
     "output_type": "stream",
     "text": [
      "episodes: 66, steps: 95000\n",
      "epsilon: 0.01, reward: -12.5\n"
     ]
    },
    {
     "name": "stderr",
     "output_type": "stream",
     "text": [
      " 10%|▉         | 96264/1000000 [17:14<3:01:11, 83.13it/s]"
     ]
    }
   ],
   "source": [
    "n_steps = 1_000_000\n",
    "update_freq = 1\n",
    "target_freq = 1_000\n",
    "print_freq = 5_000\n",
    "gamma = 0.99\n",
    "batch_size = 32\n",
    "grad_clip = 1.0\n",
    "\n",
    "train(env, model, replay_memory, optimizer, n_steps, update_freq,\n",
    "      target_freq, print_freq, epsilons, batch_size, gamma, grad_clip, device)"
   ]
  },
  {
   "cell_type": "code",
   "execution_count": null,
   "id": "amateur-vienna",
   "metadata": {},
   "outputs": [],
   "source": []
  },
  {
   "cell_type": "code",
   "execution_count": null,
   "id": "direct-filename",
   "metadata": {},
   "outputs": [],
   "source": []
  },
  {
   "cell_type": "code",
   "execution_count": null,
   "id": "generic-tyler",
   "metadata": {},
   "outputs": [],
   "source": []
  }
 ],
 "metadata": {
  "kernelspec": {
   "display_name": "Python 3",
   "language": "python",
   "name": "python3"
  },
  "language_info": {
   "codemirror_mode": {
    "name": "ipython",
    "version": 3
   },
   "file_extension": ".py",
   "mimetype": "text/x-python",
   "name": "python",
   "nbconvert_exporter": "python",
   "pygments_lexer": "ipython3",
   "version": "3.8.8"
  }
 },
 "nbformat": 4,
 "nbformat_minor": 5
}
