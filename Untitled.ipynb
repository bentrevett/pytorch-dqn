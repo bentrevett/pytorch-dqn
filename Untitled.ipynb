{
 "cells": [
  {
   "cell_type": "markdown",
   "metadata": {},
   "source": [
    "- https://danieltakeshi.github.io/2016/12/01/going-deeper-into-reinforcement-learning-understanding-dqn/\n",
    "- https://github.com/hengyuan-hu/rainbow\n",
    "- https://medium.com/mlreview/speeding-up-dqn-on-pytorch-solving-pong-in-30-minutes-81a1bd2dff55\n",
    "- https://github.com/transedward/pytorch-dqn\n",
    "- https://github.com/AndersonJo/dqn-pytorch\n",
    "**TODO**\n",
    "- Use 4 frames or frame difference instead of single frame\n",
    "- End of episode next states should have value of 0"
   ]
  },
  {
   "cell_type": "code",
   "execution_count": 1,
   "metadata": {},
   "outputs": [],
   "source": [
    "%matplotlib inline\n",
    "import matplotlib.pyplot as plt\n",
    "import gym\n",
    "import cv2\n",
    "import random\n",
    "import math\n",
    "import numpy as np\n",
    "import torch\n",
    "import torch.nn as nn\n",
    "import torch.nn.functional as F\n",
    "import torch.optim as optim\n",
    "\n",
    "device = torch.device('cuda' if torch.cuda.is_available() else 'cpu')"
   ]
  },
  {
   "cell_type": "code",
   "execution_count": 2,
   "metadata": {},
   "outputs": [],
   "source": [
    "def rgb2gray(rgb):\n",
    "    r, g, b = rgb[:,:,0], rgb[:,:,1], rgb[:,:,2]\n",
    "    gray = 0.2989 * r + 0.5870 * g + 0.1140 * b\n",
    "    return gray\n",
    "\n",
    "def resize(img):\n",
    "    res = cv2.resize(img, dsize=(84, 84), interpolation=cv2.INTER_CUBIC)\n",
    "    return res\n",
    "\n",
    "def process_image(img):\n",
    "    return resize(rgb2gray(img))"
   ]
  },
  {
   "cell_type": "code",
   "execution_count": 3,
   "metadata": {},
   "outputs": [
    {
     "name": "stdout",
     "output_type": "stream",
     "text": [
      "(84, 84)\n"
     ]
    },
    {
     "data": {
      "text/plain": [
       "<matplotlib.image.AxesImage at 0x7f4c409762e8>"
      ]
     },
     "execution_count": 3,
     "metadata": {},
     "output_type": "execute_result"
    },
    {
     "data": {
      "image/png": "[encoded data removed]",
      "text/plain": [
       "<Figure size 432x288 with 1 Axes>"
      ]
     },
     "metadata": {},
     "output_type": "display_data"
    }
   ],
   "source": [
    "env = gym.make('Breakout-v0')\n",
    "observation = env.reset()\n",
    "processed = resize(rgb2gray(observation))\n",
    "print(processed.shape)\n",
    "plt.imshow(processed, cmap='gray')"
   ]
  },
  {
   "cell_type": "code",
   "execution_count": 4,
   "metadata": {},
   "outputs": [
    {
     "data": {
      "text/plain": [
       "['NOOP', 'FIRE', 'RIGHT', 'LEFT']"
      ]
     },
     "execution_count": 4,
     "metadata": {},
     "output_type": "execute_result"
    }
   ],
   "source": [
    "env.unwrapped.get_action_meanings()"
   ]
  },
  {
   "cell_type": "code",
   "execution_count": 5,
   "metadata": {},
   "outputs": [],
   "source": [
    "class DQN(nn.Module):\n",
    "\n",
    "    def __init__(self):\n",
    "        super(DQN, self).__init__()\n",
    "        self.conv1 = nn.Conv2d(1, 16, kernel_size=5, stride=2)\n",
    "        self.bn1 = nn.BatchNorm2d(16)\n",
    "        self.conv2 = nn.Conv2d(16, 32, kernel_size=5, stride=2)\n",
    "        self.bn2 = nn.BatchNorm2d(32)\n",
    "        self.conv3 = nn.Conv2d(32, 32, kernel_size=5, stride=2)\n",
    "        self.bn3 = nn.BatchNorm2d(32)\n",
    "        self.head = nn.Linear(1568, 4) #6 actions from from env.action_space.n\n",
    "\n",
    "    def forward(self, x):\n",
    "        x = F.relu(self.bn1(self.conv1(x)))\n",
    "        #print(x.shape)\n",
    "        x = F.relu(self.bn2(self.conv2(x)))\n",
    "        #print(x.shape)\n",
    "        x = F.relu(self.bn3(self.conv3(x)))\n",
    "        #print(x.shape)\n",
    "        return self.head(x.view(x.size(0), -1)) #flattens the (N, C, H, W) to (N, C*H*W)"
   ]
  },
  {
   "cell_type": "code",
   "execution_count": 6,
   "metadata": {},
   "outputs": [
    {
     "data": {
      "text/plain": [
       "DQN(\n",
       "  (conv1): Conv2d(1, 16, kernel_size=(5, 5), stride=(2, 2))\n",
       "  (bn1): BatchNorm2d(16, eps=1e-05, momentum=0.1, affine=True, track_running_stats=True)\n",
       "  (conv2): Conv2d(16, 32, kernel_size=(5, 5), stride=(2, 2))\n",
       "  (bn2): BatchNorm2d(32, eps=1e-05, momentum=0.1, affine=True, track_running_stats=True)\n",
       "  (conv3): Conv2d(32, 32, kernel_size=(5, 5), stride=(2, 2))\n",
       "  (bn3): BatchNorm2d(32, eps=1e-05, momentum=0.1, affine=True, track_running_stats=True)\n",
       "  (head): Linear(in_features=1568, out_features=4, bias=True)\n",
       ")"
      ]
     },
     "execution_count": 6,
     "metadata": {},
     "output_type": "execute_result"
    }
   ],
   "source": [
    "model = DQN().to(device)\n",
    "target = DQN().to(device)\n",
    "target.load_state_dict(model.state_dict())\n",
    "target.eval()"
   ]
  },
  {
   "cell_type": "code",
   "execution_count": 7,
   "metadata": {},
   "outputs": [],
   "source": [
    "optimizer = optim.Adam(model.parameters())"
   ]
  },
  {
   "cell_type": "code",
   "execution_count": 8,
   "metadata": {},
   "outputs": [],
   "source": [
    "def update_model(buffer):\n",
    "    \n",
    "    BATCH_SIZE = 32\n",
    "    \n",
    "    random.shuffle(buffer)\n",
    "    \n",
    "    states, next_states, actions, rewards = zip(*buffer)\n",
    "    \n",
    "    states = torch.stack(states).squeeze(1)\n",
    "    next_states = torch.stack(next_states).squeeze(1)\n",
    "    \n",
    "    actions = torch.LongTensor(actions).to(device)\n",
    "    rewards = torch.FloatTensor(rewards).to(device)\n",
    "        \n",
    "    n_batches = len(buffer) // BATCH_SIZE\n",
    "    \n",
    "    for i in range(n_batches):\n",
    "        \n",
    "        batch_states = states[i*BATCH_SIZE:(i+1)*BATCH_SIZE]\n",
    "        batch_next_states = next_states[i*BATCH_SIZE:(i+1)*BATCH_SIZE]\n",
    "        batch_actions = actions[i*BATCH_SIZE:(i+1)*BATCH_SIZE]\n",
    "        batch_rewards = rewards[i*BATCH_SIZE:(i+1)*BATCH_SIZE]\n",
    "        \n",
    "        Qsa = model(batch_states)\n",
    "        \n",
    "        pred_values, pred_actions = Qsa.topk(1)\n",
    "        \n",
    "        exp_Qsa = target(batch_next_states)\n",
    "        \n",
    "        #print(exp_Qsa)\n",
    "        target_Qsa = exp_Qsa.max(1)[0] #get max Q values\n",
    "        \n",
    "        #assert 1 == 2\n",
    "        \n",
    "        #print(exp_Qsa.shape)\n",
    "        #print(batch_rewards.shape)\n",
    "        \n",
    "        #print(target_Qsa.shape)\n",
    "        \n",
    "        #print(batch_rewards.shape)\n",
    "        \n",
    "        target_Qsa = (target_Qsa * 0.99) + batch_rewards\n",
    "        \n",
    "        #print(pred_values.shape)\n",
    "        #print(target_Qsa.shape)\n",
    "        \n",
    "        loss = F.smooth_l1_loss(pred_values.squeeze(1), target_Qsa.detach())\n",
    "        \n",
    "        #assert 1 == 2\n",
    "        \n",
    "        optimizer.zero_grad()\n",
    "        \n",
    "        loss.backward()\n",
    "        \n",
    "        for p in model.parameters():\n",
    "            p.grad.data.clamp(-1, 1)\n",
    "            \n",
    "        optimizer.step()"
   ]
  },
  {
   "cell_type": "code",
   "execution_count": null,
   "metadata": {},
   "outputs": [
    {
     "name": "stdout",
     "output_type": "stream",
     "text": [
      "Episode: 0100, Episode Reward: 4.0, Episode Frames: 598, Total Frames: 175780, Epsilon: 0.83, Action Count: [70, 80, 148, 87]\n",
      "Episode: 0200, Episode Reward: 4.0, Episode Frames: 1270, Total Frames: 359055, Epsilon: 0.65, Action Count: [57, 68, 243, 69]\n",
      "Episode: 0300, Episode Reward: 2.0, Episode Frames: 1252, Total Frames: 545324, Epsilon: 0.46, Action Count: [36, 36, 198, 35]\n"
     ]
    }
   ],
   "source": [
    "N_EPISODES = 2500\n",
    "BATCH_SIZE = 32\n",
    "\n",
    "episode = 1\n",
    "buffer = []\n",
    "rewards_per_episode = []\n",
    "total_frames = 0\n",
    "start_epsilon = 1\n",
    "end_epsilon = 0.01\n",
    "epsilon_steps = 1_000_000\n",
    "e = np.linspace(start_epsilon, end_epsilon, epsilon_steps)\n",
    "\n",
    "\n",
    "while True:\n",
    "\n",
    "    \n",
    "    env = gym.make('Breakout-v0')\n",
    "    act_count = [0, 0, 0, 0]\n",
    "    episode_reward = 0\n",
    "    \n",
    "\n",
    "    state = env.reset()\n",
    "\n",
    "    state = torch.from_numpy(process_image(state)).float().unsqueeze(0).unsqueeze(0).to(device)\n",
    "    \n",
    "    while True:\n",
    "\n",
    "        epsilon = e[total_frames] if total_frames < len(e) else end_epsilon\n",
    "        \n",
    "        if random.random() > epsilon:\n",
    "            action = model(state)\n",
    "            _, idx = torch.topk(action, 1)\n",
    "            action = idx.item()\n",
    "        else:\n",
    "            action = env.action_space.sample()\n",
    "            \n",
    "        act_count[action] += 1\n",
    "        \n",
    "        next_state, reward, done, info = env.step(action)\n",
    "\n",
    "        next_state = torch.from_numpy(process_image(next_state)).float().unsqueeze(0).unsqueeze(0).to(device)\n",
    "        \n",
    "        buffer.append((state, next_state, action, reward))\n",
    "\n",
    "        episode_reward += reward\n",
    "\n",
    "        if done:\n",
    "            #rewards_per_episode.append(episode_reward)\n",
    "            episode += 1\n",
    "            break\n",
    "            \n",
    "    total_frames += len(buffer)\n",
    "    \n",
    "    if episode % 100 == 0:\n",
    "        print(f'Episode: {episode:04}, Episode Reward: {episode_reward}, Episode Frames: {len(buffer)}, Total Frames: {total_frames}, Epsilon: {epsilon:.02f}, Action Count: {act_count}')\n",
    "            \n",
    "    if len(buffer) > BATCH_SIZE * 100:\n",
    "        update_model(buffer)\n",
    "        buffer = []\n",
    "    \n",
    "    if episode % 1000 == 0:\n",
    "        target.load_state_dict(model.state_dict())"
   ]
  },
  {
   "cell_type": "code",
   "execution_count": null,
   "metadata": {},
   "outputs": [],
   "source": []
  },
  {
   "cell_type": "code",
   "execution_count": null,
   "metadata": {},
   "outputs": [],
   "source": []
  },
  {
   "cell_type": "code",
   "execution_count": null,
   "metadata": {},
   "outputs": [],
   "source": []
  },
  {
   "cell_type": "code",
   "execution_count": null,
   "metadata": {},
   "outputs": [],
   "source": []
  },
  {
   "cell_type": "code",
   "execution_count": null,
   "metadata": {},
   "outputs": [],
   "source": []
  }
 ],
 "metadata": {
  "kernelspec": {
   "display_name": "Python 3",
   "language": "python",
   "name": "python3"
  },
  "language_info": {
   "codemirror_mode": {
    "name": "ipython",
    "version": 3
   },
   "file_extension": ".py",
   "mimetype": "text/x-python",
   "name": "python",
   "nbconvert_exporter": "python",
   "pygments_lexer": "ipython3",
   "version": "3.6.5"
  }
 },
 "nbformat": 4,
 "nbformat_minor": 2
}
